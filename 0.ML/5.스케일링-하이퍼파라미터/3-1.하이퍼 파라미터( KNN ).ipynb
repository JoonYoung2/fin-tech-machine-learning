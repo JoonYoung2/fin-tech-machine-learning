{
 "cells": [
  {
   "cell_type": "markdown",
   "id": "812f0d0a",
   "metadata": {},
   "source": [
    "### 하이퍼파라미터\n",
    "* 예측력을 높이기 위해 사용\n",
    "* 과대/과소 적합을 방지하기 위해 사용\n",
    "* 사용자가 지정하는 파라미터\n",
    "\n",
    "#### 하이퍼파라미터 튜닝 (단점 - 시간이 오래걸림)\n",
    "* 특정 알고리즘의 매개변수 값을 변경하면서 최적의 파라미터를 찾는 방식\n",
    "* GridSearchCV클래스를 통해 하이퍼파라미터 탐색과 교차 검증을 한번에 수행\n",
    "\n",
    "#### GridSearchCV\n",
    "* 교차 검증으로 하이퍼파라미터 탐색을 수행한다\n",
    "* 최상의 모델을 찾은 후 훈련 세트 전체를 사용해 최종 모델을 훈련한다\n",
    "* 매개변수\n",
    "    - GridSearchCV(모델, param_grid = 파라미터, cv=반복횟수, n_jobs=코어 수(-1, 모든 코어 사용))"
   ]
  },
  {
   "cell_type": "markdown",
   "id": "d26fd0ab",
   "metadata": {},
   "source": [
    "### K-최근접 이웃 알고리즘\n",
    "* 주위에서 가장 가까운 다른 데이터를 보고 현재 데이터를 판단\n",
    "\n",
    "#### 하이퍼파라미터\n",
    "* n_neighbors\n",
    "    - 기본 가까운 5개의 데이터를 보고 자기 자신이 어디에 속하는지를 판단\n",
    "    - 비교하고자 하는 데이터의 수가 적을 수록 과대 적합이 된다\n",
    "* metric : 거리계산 척도\n",
    "    - euclidean(녹색) : 유클리디안 거리 측정\n",
    "        * 목표 지점까지 가장 짧은 거리\n",
    "    - manhattan(빨간색) : 맨하튼 거리 측정 방법\n",
    "        * 찾아가는 경로의 모든 길이의 합\n",
    "* weights : 가중치\n",
    "    - uniform : 거리에 가중치 부여하지 않음(균일한 가중치)\n",
    "    - distance : 거리에 가중치 부여(가까이 있는 데이터에 가중치)"
   ]
  },
  {
   "cell_type": "markdown",
   "id": "c91d8dc9",
   "metadata": {},
   "source": [
    "![img](files/images/거리척도.png)"
   ]
  },
  {
   "cell_type": "code",
   "execution_count": 71,
   "id": "b4330349",
   "metadata": {},
   "outputs": [],
   "source": [
    "from sklearn.neighbors import KNeighborsClassifier\n",
    "from sklearn.preprocessing import MinMaxScaler\n",
    "from sklearn.model_selection import train_test_split\n",
    "import pandas as pd\n",
    "\n",
    "import warnings\n",
    "warnings.filterwarnings(\"ignore\")"
   ]
  },
  {
   "cell_type": "code",
   "execution_count": 72,
   "id": "2f35972a",
   "metadata": {},
   "outputs": [
    {
     "data": {
      "text/html": [
       "<div>\n",
       "<style scoped>\n",
       "    .dataframe tbody tr th:only-of-type {\n",
       "        vertical-align: middle;\n",
       "    }\n",
       "\n",
       "    .dataframe tbody tr th {\n",
       "        vertical-align: top;\n",
       "    }\n",
       "\n",
       "    .dataframe thead th {\n",
       "        text-align: right;\n",
       "    }\n",
       "</style>\n",
       "<table border=\"1\" class=\"dataframe\">\n",
       "  <thead>\n",
       "    <tr style=\"text-align: right;\">\n",
       "      <th></th>\n",
       "      <th>PassengerId</th>\n",
       "      <th>Survived</th>\n",
       "      <th>Pclass</th>\n",
       "      <th>Sex</th>\n",
       "      <th>Age</th>\n",
       "      <th>SibSp</th>\n",
       "      <th>Parch</th>\n",
       "      <th>Fare</th>\n",
       "    </tr>\n",
       "  </thead>\n",
       "  <tbody>\n",
       "    <tr>\n",
       "      <th>0</th>\n",
       "      <td>1</td>\n",
       "      <td>0</td>\n",
       "      <td>3</td>\n",
       "      <td>0</td>\n",
       "      <td>22.0</td>\n",
       "      <td>1</td>\n",
       "      <td>0</td>\n",
       "      <td>7.2500</td>\n",
       "    </tr>\n",
       "    <tr>\n",
       "      <th>1</th>\n",
       "      <td>2</td>\n",
       "      <td>1</td>\n",
       "      <td>1</td>\n",
       "      <td>1</td>\n",
       "      <td>38.0</td>\n",
       "      <td>1</td>\n",
       "      <td>0</td>\n",
       "      <td>71.2833</td>\n",
       "    </tr>\n",
       "    <tr>\n",
       "      <th>2</th>\n",
       "      <td>3</td>\n",
       "      <td>1</td>\n",
       "      <td>3</td>\n",
       "      <td>1</td>\n",
       "      <td>26.0</td>\n",
       "      <td>0</td>\n",
       "      <td>0</td>\n",
       "      <td>7.9250</td>\n",
       "    </tr>\n",
       "    <tr>\n",
       "      <th>3</th>\n",
       "      <td>4</td>\n",
       "      <td>1</td>\n",
       "      <td>1</td>\n",
       "      <td>1</td>\n",
       "      <td>35.0</td>\n",
       "      <td>1</td>\n",
       "      <td>0</td>\n",
       "      <td>53.1000</td>\n",
       "    </tr>\n",
       "    <tr>\n",
       "      <th>4</th>\n",
       "      <td>5</td>\n",
       "      <td>0</td>\n",
       "      <td>3</td>\n",
       "      <td>0</td>\n",
       "      <td>35.0</td>\n",
       "      <td>0</td>\n",
       "      <td>0</td>\n",
       "      <td>8.0500</td>\n",
       "    </tr>\n",
       "  </tbody>\n",
       "</table>\n",
       "</div>"
      ],
      "text/plain": [
       "   PassengerId  Survived  Pclass  Sex   Age  SibSp  Parch     Fare\n",
       "0            1         0       3    0  22.0      1      0   7.2500\n",
       "1            2         1       1    1  38.0      1      0  71.2833\n",
       "2            3         1       3    1  26.0      0      0   7.9250\n",
       "3            4         1       1    1  35.0      1      0  53.1000\n",
       "4            5         0       3    0  35.0      0      0   8.0500"
      ]
     },
     "execution_count": 72,
     "metadata": {},
     "output_type": "execute_result"
    }
   ],
   "source": [
    "df = pd.read_csv(\"data/titanic_cleaning.csv\")\n",
    "df.head()"
   ]
  },
  {
   "cell_type": "code",
   "execution_count": 73,
   "id": "0dc3ad26",
   "metadata": {},
   "outputs": [
    {
     "data": {
      "text/plain": [
       "Index(['PassengerId', 'Survived', 'Pclass', 'Sex', 'Age', 'SibSp', 'Parch',\n",
       "       'Fare'],\n",
       "      dtype='object')"
      ]
     },
     "execution_count": 73,
     "metadata": {},
     "output_type": "execute_result"
    }
   ],
   "source": [
    "df.columns"
   ]
  },
  {
   "cell_type": "code",
   "execution_count": 74,
   "id": "69f5d410",
   "metadata": {},
   "outputs": [
    {
     "data": {
      "text/plain": [
       "(     Pclass  Sex        Age  SibSp  Parch\n",
       " 0         3    0  22.000000      1      0\n",
       " 1         1    1  38.000000      1      0\n",
       " 2         3    1  26.000000      0      0\n",
       " 3         1    1  35.000000      1      0\n",
       " 4         3    0  35.000000      0      0\n",
       " ..      ...  ...        ...    ...    ...\n",
       " 886       2    0  27.000000      0      0\n",
       " 887       1    1  19.000000      0      0\n",
       " 888       3    1  29.699118      1      2\n",
       " 889       1    0  26.000000      0      0\n",
       " 890       3    0  32.000000      0      0\n",
       " \n",
       " [891 rows x 5 columns],\n",
       " 0      0\n",
       " 1      1\n",
       " 2      1\n",
       " 3      1\n",
       " 4      0\n",
       "       ..\n",
       " 886    0\n",
       " 887    1\n",
       " 888    0\n",
       " 889    1\n",
       " 890    0\n",
       " Name: Survived, Length: 891, dtype: int64)"
      ]
     },
     "execution_count": 74,
     "metadata": {},
     "output_type": "execute_result"
    }
   ],
   "source": [
    "features = ['Pclass', 'Sex', 'Age', 'SibSp', 'Parch']\n",
    "label = 'Survived'\n",
    "\n",
    "X, y = df[features], df[label]\n",
    "X, y"
   ]
  },
  {
   "cell_type": "markdown",
   "id": "02af5741",
   "metadata": {},
   "source": [
    "### min max scaler"
   ]
  },
  {
   "cell_type": "code",
   "execution_count": 75,
   "id": "346da4ac",
   "metadata": {},
   "outputs": [],
   "source": [
    "minMaxScaler = MinMaxScaler()\n",
    "minMaxScaler.fit(X)\n",
    "X_scaler = minMaxScaler.transform(X)"
   ]
  },
  {
   "cell_type": "code",
   "execution_count": 76,
   "id": "41d26ae3",
   "metadata": {},
   "outputs": [],
   "source": [
    "X_train_minMax, X_test_minMax, y_train, y_test = train_test_split(X_scaler, y, test_size=0.2)"
   ]
  },
  {
   "cell_type": "markdown",
   "id": "e3b3e446",
   "metadata": {},
   "source": [
    "### knn 모델 생성"
   ]
  },
  {
   "cell_type": "code",
   "execution_count": 77,
   "id": "f5050f21",
   "metadata": {},
   "outputs": [
    {
     "name": "stdout",
     "output_type": "stream",
     "text": [
      "train :  0.848314606741573\n",
      "test :  0.8212290502793296\n"
     ]
    }
   ],
   "source": [
    "knn = KNeighborsClassifier()\n",
    "knn.fit(X_train_minMax, y_train)\n",
    "print(\"train : \", knn.score(X_train_minMax, y_train))\n",
    "print(\"test : \", knn.score(X_test_minMax, y_test))"
   ]
  },
  {
   "cell_type": "code",
   "execution_count": 78,
   "id": "c252c6e4",
   "metadata": {},
   "outputs": [
    {
     "name": "stdout",
     "output_type": "stream",
     "text": [
      "1\n",
      "2\n",
      "3\n",
      "4\n",
      "5\n",
      "6\n",
      "7\n",
      "8\n",
      "9\n",
      "10\n"
     ]
    }
   ],
   "source": [
    "k_param = range(1, 11) # 1~10까지\n",
    "for i in k_param:\n",
    "    print(i)"
   ]
  },
  {
   "cell_type": "code",
   "execution_count": 79,
   "id": "67e3e16d",
   "metadata": {},
   "outputs": [
    {
     "name": "stdout",
     "output_type": "stream",
     "text": [
      "train :  0.8651685393258427\n",
      "test :  0.7932960893854749\n"
     ]
    }
   ],
   "source": [
    "knn = KNeighborsClassifier(n_neighbors=3)\n",
    "knn.fit(X_train_minMax, y_train)\n",
    "print(\"train : \", knn.score(X_train_minMax, y_train))\n",
    "print(\"test : \", knn.score(X_test_minMax, y_test))"
   ]
  },
  {
   "cell_type": "code",
   "execution_count": 80,
   "id": "ea259904",
   "metadata": {},
   "outputs": [
    {
     "data": {
      "text/html": [
       "<div>\n",
       "<style scoped>\n",
       "    .dataframe tbody tr th:only-of-type {\n",
       "        vertical-align: middle;\n",
       "    }\n",
       "\n",
       "    .dataframe tbody tr th {\n",
       "        vertical-align: top;\n",
       "    }\n",
       "\n",
       "    .dataframe thead th {\n",
       "        text-align: right;\n",
       "    }\n",
       "</style>\n",
       "<table border=\"1\" class=\"dataframe\">\n",
       "  <thead>\n",
       "    <tr style=\"text-align: right;\">\n",
       "      <th></th>\n",
       "      <th>k</th>\n",
       "      <th>다른</th>\n",
       "    </tr>\n",
       "  </thead>\n",
       "  <tbody>\n",
       "    <tr>\n",
       "      <th>0</th>\n",
       "      <td>1</td>\n",
       "      <td>1</td>\n",
       "    </tr>\n",
       "    <tr>\n",
       "      <th>1</th>\n",
       "      <td>2</td>\n",
       "      <td>2</td>\n",
       "    </tr>\n",
       "    <tr>\n",
       "      <th>2</th>\n",
       "      <td>3</td>\n",
       "      <td>3</td>\n",
       "    </tr>\n",
       "    <tr>\n",
       "      <th>3</th>\n",
       "      <td>4</td>\n",
       "      <td>4</td>\n",
       "    </tr>\n",
       "    <tr>\n",
       "      <th>4</th>\n",
       "      <td>5</td>\n",
       "      <td>5</td>\n",
       "    </tr>\n",
       "    <tr>\n",
       "      <th>5</th>\n",
       "      <td>6</td>\n",
       "      <td>6</td>\n",
       "    </tr>\n",
       "    <tr>\n",
       "      <th>6</th>\n",
       "      <td>7</td>\n",
       "      <td>7</td>\n",
       "    </tr>\n",
       "    <tr>\n",
       "      <th>7</th>\n",
       "      <td>8</td>\n",
       "      <td>8</td>\n",
       "    </tr>\n",
       "    <tr>\n",
       "      <th>8</th>\n",
       "      <td>9</td>\n",
       "      <td>9</td>\n",
       "    </tr>\n",
       "    <tr>\n",
       "      <th>9</th>\n",
       "      <td>10</td>\n",
       "      <td>10</td>\n",
       "    </tr>\n",
       "  </tbody>\n",
       "</table>\n",
       "</div>"
      ],
      "text/plain": [
       "    k  다른\n",
       "0   1   1\n",
       "1   2   2\n",
       "2   3   3\n",
       "3   4   4\n",
       "4   5   5\n",
       "5   6   6\n",
       "6   7   7\n",
       "7   8   8\n",
       "8   9   9\n",
       "9  10  10"
      ]
     },
     "execution_count": 80,
     "metadata": {},
     "output_type": "execute_result"
    }
   ],
   "source": [
    "dic = {\"k\" : k_param, \"다른\" : k_param}\n",
    "pd.DataFrame(dic)"
   ]
  },
  {
   "cell_type": "code",
   "execution_count": 81,
   "id": "68ba8a91",
   "metadata": {},
   "outputs": [
    {
     "data": {
      "text/plain": [
       "[100, 200, '안녕']"
      ]
     },
     "execution_count": 81,
     "metadata": {},
     "output_type": "execute_result"
    }
   ],
   "source": [
    "test = []\n",
    "test.append(100)\n",
    "test.append(200)\n",
    "test.append(\"안녕\")\n",
    "\n",
    "test"
   ]
  },
  {
   "cell_type": "code",
   "execution_count": 82,
   "id": "67c30020",
   "metadata": {},
   "outputs": [
    {
     "data": {
      "text/html": [
       "<div>\n",
       "<style scoped>\n",
       "    .dataframe tbody tr th:only-of-type {\n",
       "        vertical-align: middle;\n",
       "    }\n",
       "\n",
       "    .dataframe tbody tr th {\n",
       "        vertical-align: top;\n",
       "    }\n",
       "\n",
       "    .dataframe thead th {\n",
       "        text-align: right;\n",
       "    }\n",
       "</style>\n",
       "<table border=\"1\" class=\"dataframe\">\n",
       "  <thead>\n",
       "    <tr style=\"text-align: right;\">\n",
       "      <th></th>\n",
       "      <th>k</th>\n",
       "      <th>test</th>\n",
       "    </tr>\n",
       "  </thead>\n",
       "  <tbody>\n",
       "    <tr>\n",
       "      <th>0</th>\n",
       "      <td>1</td>\n",
       "      <td>100</td>\n",
       "    </tr>\n",
       "    <tr>\n",
       "      <th>1</th>\n",
       "      <td>2</td>\n",
       "      <td>200</td>\n",
       "    </tr>\n",
       "    <tr>\n",
       "      <th>2</th>\n",
       "      <td>3</td>\n",
       "      <td>안녕</td>\n",
       "    </tr>\n",
       "  </tbody>\n",
       "</table>\n",
       "</div>"
      ],
      "text/plain": [
       "   k test\n",
       "0  1  100\n",
       "1  2  200\n",
       "2  3   안녕"
      ]
     },
     "execution_count": 82,
     "metadata": {},
     "output_type": "execute_result"
    }
   ],
   "source": [
    "dic = {\"k\" : [1,2,3], \"test\" : test}\n",
    "pd.DataFrame(dic)"
   ]
  },
  {
   "cell_type": "code",
   "execution_count": 89,
   "id": "19485535",
   "metadata": {},
   "outputs": [
    {
     "data": {
      "text/html": [
       "<div>\n",
       "<style scoped>\n",
       "    .dataframe tbody tr th:only-of-type {\n",
       "        vertical-align: middle;\n",
       "    }\n",
       "\n",
       "    .dataframe tbody tr th {\n",
       "        vertical-align: top;\n",
       "    }\n",
       "\n",
       "    .dataframe thead th {\n",
       "        text-align: right;\n",
       "    }\n",
       "</style>\n",
       "<table border=\"1\" class=\"dataframe\">\n",
       "  <thead>\n",
       "    <tr style=\"text-align: right;\">\n",
       "      <th></th>\n",
       "      <th>num</th>\n",
       "      <th>train_score</th>\n",
       "      <th>test_score</th>\n",
       "      <th>best_score</th>\n",
       "    </tr>\n",
       "  </thead>\n",
       "  <tbody>\n",
       "    <tr>\n",
       "      <th>0</th>\n",
       "      <td>1</td>\n",
       "      <td>0.897472</td>\n",
       "      <td>0.737430</td>\n",
       "      <td>0.160042</td>\n",
       "    </tr>\n",
       "    <tr>\n",
       "      <th>1</th>\n",
       "      <td>2</td>\n",
       "      <td>0.869382</td>\n",
       "      <td>0.810056</td>\n",
       "      <td>0.059326</td>\n",
       "    </tr>\n",
       "    <tr>\n",
       "      <th>2</th>\n",
       "      <td>3</td>\n",
       "      <td>0.865169</td>\n",
       "      <td>0.793296</td>\n",
       "      <td>0.071872</td>\n",
       "    </tr>\n",
       "    <tr>\n",
       "      <th>3</th>\n",
       "      <td>4</td>\n",
       "      <td>0.855337</td>\n",
       "      <td>0.826816</td>\n",
       "      <td>0.028521</td>\n",
       "    </tr>\n",
       "    <tr>\n",
       "      <th>4</th>\n",
       "      <td>5</td>\n",
       "      <td>0.848315</td>\n",
       "      <td>0.821229</td>\n",
       "      <td>0.027086</td>\n",
       "    </tr>\n",
       "    <tr>\n",
       "      <th>5</th>\n",
       "      <td>6</td>\n",
       "      <td>0.835674</td>\n",
       "      <td>0.815642</td>\n",
       "      <td>0.020032</td>\n",
       "    </tr>\n",
       "    <tr>\n",
       "      <th>6</th>\n",
       "      <td>7</td>\n",
       "      <td>0.831461</td>\n",
       "      <td>0.826816</td>\n",
       "      <td>0.004645</td>\n",
       "    </tr>\n",
       "    <tr>\n",
       "      <th>7</th>\n",
       "      <td>8</td>\n",
       "      <td>0.818820</td>\n",
       "      <td>0.798883</td>\n",
       "      <td>0.019938</td>\n",
       "    </tr>\n",
       "    <tr>\n",
       "      <th>8</th>\n",
       "      <td>9</td>\n",
       "      <td>0.823034</td>\n",
       "      <td>0.810056</td>\n",
       "      <td>0.012978</td>\n",
       "    </tr>\n",
       "    <tr>\n",
       "      <th>9</th>\n",
       "      <td>10</td>\n",
       "      <td>0.824438</td>\n",
       "      <td>0.782123</td>\n",
       "      <td>0.042315</td>\n",
       "    </tr>\n",
       "    <tr>\n",
       "      <th>10</th>\n",
       "      <td>11</td>\n",
       "      <td>0.828652</td>\n",
       "      <td>0.787709</td>\n",
       "      <td>0.040942</td>\n",
       "    </tr>\n",
       "    <tr>\n",
       "      <th>11</th>\n",
       "      <td>12</td>\n",
       "      <td>0.821629</td>\n",
       "      <td>0.782123</td>\n",
       "      <td>0.039506</td>\n",
       "    </tr>\n",
       "    <tr>\n",
       "      <th>12</th>\n",
       "      <td>13</td>\n",
       "      <td>0.827247</td>\n",
       "      <td>0.782123</td>\n",
       "      <td>0.045124</td>\n",
       "    </tr>\n",
       "    <tr>\n",
       "      <th>13</th>\n",
       "      <td>14</td>\n",
       "      <td>0.825843</td>\n",
       "      <td>0.787709</td>\n",
       "      <td>0.038133</td>\n",
       "    </tr>\n",
       "    <tr>\n",
       "      <th>14</th>\n",
       "      <td>15</td>\n",
       "      <td>0.825843</td>\n",
       "      <td>0.793296</td>\n",
       "      <td>0.032547</td>\n",
       "    </tr>\n",
       "    <tr>\n",
       "      <th>15</th>\n",
       "      <td>16</td>\n",
       "      <td>0.811798</td>\n",
       "      <td>0.782123</td>\n",
       "      <td>0.029675</td>\n",
       "    </tr>\n",
       "    <tr>\n",
       "      <th>16</th>\n",
       "      <td>17</td>\n",
       "      <td>0.823034</td>\n",
       "      <td>0.804469</td>\n",
       "      <td>0.018564</td>\n",
       "    </tr>\n",
       "    <tr>\n",
       "      <th>17</th>\n",
       "      <td>18</td>\n",
       "      <td>0.816011</td>\n",
       "      <td>0.787709</td>\n",
       "      <td>0.028302</td>\n",
       "    </tr>\n",
       "    <tr>\n",
       "      <th>18</th>\n",
       "      <td>19</td>\n",
       "      <td>0.808989</td>\n",
       "      <td>0.804469</td>\n",
       "      <td>0.004519</td>\n",
       "    </tr>\n",
       "  </tbody>\n",
       "</table>\n",
       "</div>"
      ],
      "text/plain": [
       "    num  train_score  test_score  best_score\n",
       "0     1     0.897472    0.737430    0.160042\n",
       "1     2     0.869382    0.810056    0.059326\n",
       "2     3     0.865169    0.793296    0.071872\n",
       "3     4     0.855337    0.826816    0.028521\n",
       "4     5     0.848315    0.821229    0.027086\n",
       "5     6     0.835674    0.815642    0.020032\n",
       "6     7     0.831461    0.826816    0.004645\n",
       "7     8     0.818820    0.798883    0.019938\n",
       "8     9     0.823034    0.810056    0.012978\n",
       "9    10     0.824438    0.782123    0.042315\n",
       "10   11     0.828652    0.787709    0.040942\n",
       "11   12     0.821629    0.782123    0.039506\n",
       "12   13     0.827247    0.782123    0.045124\n",
       "13   14     0.825843    0.787709    0.038133\n",
       "14   15     0.825843    0.793296    0.032547\n",
       "15   16     0.811798    0.782123    0.029675\n",
       "16   17     0.823034    0.804469    0.018564\n",
       "17   18     0.816011    0.787709    0.028302\n",
       "18   19     0.808989    0.804469    0.004519"
      ]
     },
     "execution_count": 89,
     "metadata": {},
     "output_type": "execute_result"
    }
   ],
   "source": [
    "k_param = range(1, 20)\n",
    "train_list = []\n",
    "test_list = []\n",
    "num_list = []\n",
    "best_list = []\n",
    "\n",
    "for num in k_param:\n",
    "    knn = KNeighborsClassifier(n_neighbors=num)\n",
    "    knn.fit(X_train_minMax, y_train)\n",
    "    num_list.append(num)\n",
    "    train_list.append(knn.score(X_train_minMax, y_train))\n",
    "    test_list.append(knn.score(X_test_minMax, y_test))\n",
    "    best_list.append((knn.score(X_train_minMax, y_train)) - (knn.score(X_test_minMax, y_test)))\n",
    "\n",
    "dic = {\"num\" : num_list, \"train_score\" : train_list, \"test_score\" : test_list, \"best_score\" : best_list}\n",
    "score_df = pd.DataFrame(dic)\n",
    "score_df"
   ]
  },
  {
   "cell_type": "code",
   "execution_count": 84,
   "id": "4753a7de",
   "metadata": {},
   "outputs": [
    {
     "data": {
      "text/plain": [
       "[1, 2, 3, 4, 5, 6, 7, 8, 9, 10, 11, 12, 13, 14, 15, 16, 17, 18, 19]"
      ]
     },
     "execution_count": 84,
     "metadata": {},
     "output_type": "execute_result"
    }
   ],
   "source": [
    "num_list"
   ]
  },
  {
   "cell_type": "code",
   "execution_count": 88,
   "id": "a1236331",
   "metadata": {},
   "outputs": [
    {
     "data": {
      "text/plain": [
       "<Axes: xlabel='num', ylabel='train_score'>"
      ]
     },
     "execution_count": 88,
     "metadata": {},
     "output_type": "execute_result"
    },
    {
     "data": {
      "image/png": "[encoded data removed]",
      "text/plain": [
       "<Figure size 500x500 with 1 Axes>"
      ]
     },
     "metadata": {},
     "output_type": "display_data"
    }
   ],
   "source": [
    "import matplotlib.pyplot as plt\n",
    "import seaborn as sns\n",
    "\n",
    "plt.rc('font', family=\"Malgun Gothic\")\n",
    "plt.subplots(figsize = (5,5))\n",
    "sns.lineplot(x = \"num\", y = \"train_score\", data=score_df)\n",
    "sns.lineplot(x = \"num\", y = \"test_score\", data=score_df)"
   ]
  },
  {
   "cell_type": "markdown",
   "id": "575fc715",
   "metadata": {},
   "source": [
    "### GridSearchCV\n",
    "* 폴드를 여러개 만들어 각 각의 섹션에 따라 train과 test를 나눠 테스트한 결과 중 가장 좋은 최적해를 찾아준다.\n",
    "* GridSearchCV(모델, param_grid=파라미터, cv = 폴드 수, n_jobs = 코어 수)"
   ]
  },
  {
   "cell_type": "code",
   "execution_count": 95,
   "id": "96ebb2ac",
   "metadata": {},
   "outputs": [
    {
     "name": "stdout",
     "output_type": "stream",
     "text": [
      "최적의 하이퍼 파라미터 :  {'n_neighbors': 10}\n",
      "최고 예측력 :  0.8006008076430611\n",
      "train :  0.824438202247191\n",
      "test :  0.7821229050279329\n"
     ]
    }
   ],
   "source": [
    "from sklearn.model_selection import GridSearchCV\n",
    "\n",
    "k_param = range(1, 11)\n",
    "params = {\"n_neighbors\" : k_param}\n",
    "knn = KNeighborsClassifier()\n",
    "\n",
    "grid_cv = GridSearchCV(knn, param_grid=params, cv=5, n_jobs=-1)\n",
    "grid_cv.fit(X_train_minMax, y_train)\n",
    "print(\"최적의 하이퍼 파라미터 : \", grid_cv.best_params_)\n",
    "print(\"최고 예측력 : \", grid_cv.best_score_)\n",
    "\n",
    "print(\"train : \", grid_cv.score(X_train_minMax, y_train)) # 최적의 해를 토대로 학습한 결과\n",
    "print(\"test : \", grid_cv.score(X_test_minMax, y_test))"
   ]
  },
  {
   "cell_type": "code",
   "execution_count": 97,
   "id": "b9f6c985",
   "metadata": {},
   "outputs": [
    {
     "name": "stdout",
     "output_type": "stream",
     "text": [
      "최적의 하이퍼 파라미터 :  {'metric': 'manhattan', 'n_neighbors': 10, 'weights': 'uniform'}\n",
      "train :  0.8258426966292135\n",
      "test :  0.7877094972067039\n"
     ]
    }
   ],
   "source": [
    "params = {\n",
    "    \"n_neighbors\" : range(1, 11),\n",
    "    \"metric\" : [\"manhattan\", \"euclidean\"],\n",
    "    \"weights\" : [\"uniform\", \"distance\"]\n",
    "}\n",
    "\n",
    "grid_cv = GridSearchCV(knn, param_grid=params, cv=5, n_jobs=-1)\n",
    "grid_cv.fit(X_train_minMax, y_train)\n",
    "\n",
    "print(\"최적의 하이퍼 파라미터 : \", grid_cv.best_params_)\n",
    "\n",
    "print(\"train : \", grid_cv.score(X_train_minMax, y_train))\n",
    "print(\"test : \", grid_cv.score(X_test_minMax, y_test))"
   ]
  }
 ],
 "metadata": {
  "kernelspec": {
   "display_name": "Python 3 (ipykernel)",
   "language": "python",
   "name": "python3"
  },
  "language_info": {
   "codemirror_mode": {
    "name": "ipython",
    "version": 3
   },
   "file_extension": ".py",
   "mimetype": "text/x-python",
   "name": "python",
   "nbconvert_exporter": "python",
   "pygments_lexer": "ipython3",
   "version": "3.11.4"
  }
 },
 "nbformat": 4,
 "nbformat_minor": 5
}
