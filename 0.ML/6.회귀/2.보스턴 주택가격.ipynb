{
 "cells": [
  {
   "cell_type": "markdown",
   "id": "ef26b4f0",
   "metadata": {},
   "source": [
    "* 타겟 데이터\n",
    "    - 1978년 보스턴 주택 가격\n",
    "    - 506개 타운의 주택 가격 중앙값(단위 1,000달러)\n",
    "* 특징 데이터\n",
    "    - CRIM : 범죄율\n",
    "    - ZM : 25,000평방 피트 당 주거용 토지의 비율\n",
    "    - INDUS : 비소매상업지역 면적 비율\n",
    "    - CHAS : 찰스강의 경계에 위치한 경우는 1, 아니면 0(통로가 하천을 향하면1, 아니면 0)\n",
    "    - NOX : 일산화질소 농도(천만분의 1)\n",
    "    - RM : 주택당 방수\n",
    "    - AGE : 1940년 이전에 건축된 주택의 비율\n",
    "    - DIS : 5개 주요 고용센터까지의 가중거리\n",
    "    - RAD : 고속도로 접근성 지수\n",
    "    - TAX : 재산세율\n",
    "    - PTRATIO : 학생/교사 비율\n",
    "    - B ; 인구 중 흑인 거주 비율\n",
    "    - LSTAT : 인구 중 하위 계층 비율"
   ]
  },
  {
   "cell_type": "code",
   "execution_count": 6,
   "id": "444fa21a",
   "metadata": {},
   "outputs": [],
   "source": [
    "import pandas as pd\n",
    "#from sklearn.datasets import load_boston\n",
    "import numpy as np\n",
    "\n",
    "import warnings\n",
    "warnings.filterwarnings(\"ignore\")"
   ]
  },
  {
   "cell_type": "code",
   "execution_count": 7,
   "id": "ae6f2478",
   "metadata": {},
   "outputs": [
    {
     "data": {
      "text/html": [
       "<div>\n",
       "<style scoped>\n",
       "    .dataframe tbody tr th:only-of-type {\n",
       "        vertical-align: middle;\n",
       "    }\n",
       "\n",
       "    .dataframe tbody tr th {\n",
       "        vertical-align: top;\n",
       "    }\n",
       "\n",
       "    .dataframe thead th {\n",
       "        text-align: right;\n",
       "    }\n",
       "</style>\n",
       "<table border=\"1\" class=\"dataframe\">\n",
       "  <thead>\n",
       "    <tr style=\"text-align: right;\">\n",
       "      <th></th>\n",
       "      <th>CRIM</th>\n",
       "      <th>ZN</th>\n",
       "      <th>INDUS</th>\n",
       "      <th>CHAS</th>\n",
       "      <th>NOX</th>\n",
       "      <th>RM</th>\n",
       "      <th>AGE</th>\n",
       "      <th>DIS</th>\n",
       "      <th>RAD</th>\n",
       "      <th>TAX</th>\n",
       "      <th>PTRATIO</th>\n",
       "      <th>B</th>\n",
       "      <th>LSTAT</th>\n",
       "      <th>PRICE</th>\n",
       "    </tr>\n",
       "  </thead>\n",
       "  <tbody>\n",
       "    <tr>\n",
       "      <th>0</th>\n",
       "      <td>0.00632</td>\n",
       "      <td>18.0</td>\n",
       "      <td>2.31</td>\n",
       "      <td>0.0</td>\n",
       "      <td>0.538</td>\n",
       "      <td>6.575</td>\n",
       "      <td>65.2</td>\n",
       "      <td>4.0900</td>\n",
       "      <td>1.0</td>\n",
       "      <td>296.0</td>\n",
       "      <td>15.3</td>\n",
       "      <td>396.90</td>\n",
       "      <td>4.98</td>\n",
       "      <td>24.0</td>\n",
       "    </tr>\n",
       "    <tr>\n",
       "      <th>1</th>\n",
       "      <td>0.02731</td>\n",
       "      <td>0.0</td>\n",
       "      <td>7.07</td>\n",
       "      <td>0.0</td>\n",
       "      <td>0.469</td>\n",
       "      <td>6.421</td>\n",
       "      <td>78.9</td>\n",
       "      <td>4.9671</td>\n",
       "      <td>2.0</td>\n",
       "      <td>242.0</td>\n",
       "      <td>17.8</td>\n",
       "      <td>396.90</td>\n",
       "      <td>9.14</td>\n",
       "      <td>21.6</td>\n",
       "    </tr>\n",
       "    <tr>\n",
       "      <th>2</th>\n",
       "      <td>0.02729</td>\n",
       "      <td>0.0</td>\n",
       "      <td>7.07</td>\n",
       "      <td>0.0</td>\n",
       "      <td>0.469</td>\n",
       "      <td>7.185</td>\n",
       "      <td>61.1</td>\n",
       "      <td>4.9671</td>\n",
       "      <td>2.0</td>\n",
       "      <td>242.0</td>\n",
       "      <td>17.8</td>\n",
       "      <td>392.83</td>\n",
       "      <td>4.03</td>\n",
       "      <td>34.7</td>\n",
       "    </tr>\n",
       "    <tr>\n",
       "      <th>3</th>\n",
       "      <td>0.03237</td>\n",
       "      <td>0.0</td>\n",
       "      <td>2.18</td>\n",
       "      <td>0.0</td>\n",
       "      <td>0.458</td>\n",
       "      <td>6.998</td>\n",
       "      <td>45.8</td>\n",
       "      <td>6.0622</td>\n",
       "      <td>3.0</td>\n",
       "      <td>222.0</td>\n",
       "      <td>18.7</td>\n",
       "      <td>394.63</td>\n",
       "      <td>2.94</td>\n",
       "      <td>33.4</td>\n",
       "    </tr>\n",
       "    <tr>\n",
       "      <th>4</th>\n",
       "      <td>0.06905</td>\n",
       "      <td>0.0</td>\n",
       "      <td>2.18</td>\n",
       "      <td>0.0</td>\n",
       "      <td>0.458</td>\n",
       "      <td>7.147</td>\n",
       "      <td>54.2</td>\n",
       "      <td>6.0622</td>\n",
       "      <td>3.0</td>\n",
       "      <td>222.0</td>\n",
       "      <td>18.7</td>\n",
       "      <td>396.90</td>\n",
       "      <td>5.33</td>\n",
       "      <td>36.2</td>\n",
       "    </tr>\n",
       "  </tbody>\n",
       "</table>\n",
       "</div>"
      ],
      "text/plain": [
       "      CRIM    ZN  INDUS  CHAS    NOX     RM   AGE     DIS  RAD    TAX  \\\n",
       "0  0.00632  18.0   2.31   0.0  0.538  6.575  65.2  4.0900  1.0  296.0   \n",
       "1  0.02731   0.0   7.07   0.0  0.469  6.421  78.9  4.9671  2.0  242.0   \n",
       "2  0.02729   0.0   7.07   0.0  0.469  7.185  61.1  4.9671  2.0  242.0   \n",
       "3  0.03237   0.0   2.18   0.0  0.458  6.998  45.8  6.0622  3.0  222.0   \n",
       "4  0.06905   0.0   2.18   0.0  0.458  7.147  54.2  6.0622  3.0  222.0   \n",
       "\n",
       "   PTRATIO       B  LSTAT  PRICE  \n",
       "0     15.3  396.90   4.98   24.0  \n",
       "1     17.8  396.90   9.14   21.6  \n",
       "2     17.8  392.83   4.03   34.7  \n",
       "3     18.7  394.63   2.94   33.4  \n",
       "4     18.7  396.90   5.33   36.2  "
      ]
     },
     "execution_count": 7,
     "metadata": {},
     "output_type": "execute_result"
    }
   ],
   "source": [
    "df = pd.read_csv('data/boston.csv')\n",
    "df.head()"
   ]
  },
  {
   "cell_type": "code",
   "execution_count": 9,
   "id": "7559db85",
   "metadata": {},
   "outputs": [
    {
     "data": {
      "text/plain": [
       "Index(['CRIM', 'ZN', 'INDUS', 'CHAS', 'NOX', 'RM', 'AGE', 'DIS', 'RAD', 'TAX',\n",
       "       'PTRATIO', 'B', 'LSTAT', 'PRICE'],\n",
       "      dtype='object')"
      ]
     },
     "execution_count": 9,
     "metadata": {},
     "output_type": "execute_result"
    }
   ],
   "source": [
    "df.columns"
   ]
  },
  {
   "cell_type": "code",
   "execution_count": 21,
   "id": "cafc9c5c",
   "metadata": {},
   "outputs": [],
   "source": [
    "f = ['CRIM', 'ZN', 'INDUS', 'CHAS', 'NOX', 'RM', 'AGE', 'DIS', 'RAD', 'TAX',\n",
    "       'PTRATIO', 'B', 'LSTAT']\n",
    "label = 'PRICE'\n",
    "X, y = df[f], df[label]"
   ]
  },
  {
   "cell_type": "code",
   "execution_count": 22,
   "id": "543246a4",
   "metadata": {},
   "outputs": [],
   "source": [
    "from sklearn.model_selection import train_test_split\n",
    "\n",
    "X_train, X_test, y_train, y_test =\\\n",
    "        train_test_split(X, y, test_size= 0.3 )"
   ]
  },
  {
   "cell_type": "code",
   "execution_count": 23,
   "id": "fb26d3ea",
   "metadata": {},
   "outputs": [
    {
     "data": {
      "text/plain": [
       "KNeighborsRegressor()"
      ]
     },
     "execution_count": 23,
     "metadata": {},
     "output_type": "execute_result"
    }
   ],
   "source": [
    "from sklearn.neighbors import KNeighborsRegressor\n",
    "\n",
    "kn =KNeighborsRegressor()\n",
    "kn.fit( X_train, y_train )"
   ]
  },
  {
   "cell_type": "code",
   "execution_count": 24,
   "id": "0c2d7946",
   "metadata": {},
   "outputs": [],
   "source": [
    "pred = kn.predict( X_test )"
   ]
  },
  {
   "cell_type": "code",
   "execution_count": 25,
   "id": "46e7a3dd",
   "metadata": {},
   "outputs": [
    {
     "data": {
      "text/plain": [
       "(array([16.74, 21.9 , 30.66, 33.5 , 27.58, 30.88, 24.14, 17.38, 27.58,\n",
       "         9.44, 19.6 , 22.6 , 33.22, 22.32, 17.24, 32.24, 18.7 , 11.44,\n",
       "        17.96, 14.  , 21.9 , 11.38, 17.06, 20.5 , 36.6 , 14.86, 25.44,\n",
       "        26.6 , 22.74, 31.18, 29.24, 24.48, 32.16, 25.04, 29.24, 21.88,\n",
       "        13.42, 24.16, 22.48, 29.88, 23.72, 21.12,  9.92, 21.84, 20.92,\n",
       "        20.42, 24.46, 20.82, 33.48, 23.38, 23.38, 13.36, 24.56, 23.48,\n",
       "        20.02, 24.12, 37.22, 16.54, 34.7 , 43.28, 26.66, 23.38, 15.4 ,\n",
       "        17.36, 23.38, 22.86, 23.38, 10.04, 21.94, 30.66, 28.14, 33.48,\n",
       "        20.96, 24.66, 30.48, 32.74, 16.4 , 16.74, 21.76, 33.22, 23.64,\n",
       "        33.48, 29.  , 24.66, 24.14, 21.94, 10.48, 21.64, 24.36, 23.54,\n",
       "        19.76, 23.9 , 15.06, 22.74, 25.66, 25.3 , 19.62, 29.48, 17.14,\n",
       "        32.74, 26.74, 20.82, 16.12, 24.12, 25.  , 19.  , 16.98, 17.26,\n",
       "         9.62, 20.92, 22.62, 18.42, 27.  , 23.52, 23.1 , 24.2 , 30.94,\n",
       "        19.94, 18.42, 10.12, 25.78, 21.44, 20.26, 15.44, 15.94, 17.6 ,\n",
       "        24.6 , 23.9 , 23.9 ,  7.4 , 30.24, 33.48, 29.42, 25.78, 20.26,\n",
       "        23.96, 15.36, 23.38, 27.5 , 13.16, 23.38, 11.98, 24.56, 11.38,\n",
       "        32.72, 20.02, 31.14, 19.94, 22.74, 11.1 , 35.38, 19.6 ]),\n",
       " 139    17.8\n",
       " 77     20.8\n",
       " 183    32.5\n",
       " 163    50.0\n",
       " 190    37.0\n",
       "        ... \n",
       " 22     15.2\n",
       " 56     24.7\n",
       " 415     7.2\n",
       " 120    22.0\n",
       " 336    19.5\n",
       " Name: PRICE, Length: 152, dtype: float64)"
      ]
     },
     "execution_count": 25,
     "metadata": {},
     "output_type": "execute_result"
    }
   ],
   "source": [
    "pred , y_test"
   ]
  },
  {
   "cell_type": "code",
   "execution_count": 26,
   "id": "c4eac100",
   "metadata": {},
   "outputs": [
    {
     "name": "stdout",
     "output_type": "stream",
     "text": [
      "mse :  43.38890789473684\n",
      "r2_score :  0.525107578015853\n",
      "score :  0.525107578015853\n"
     ]
    }
   ],
   "source": [
    "from sklearn.metrics import mean_squared_error, r2_score\n",
    "\n",
    "mse = mean_squared_error( y_test , pred )\n",
    "r2 = r2_score( y_test, pred )\n",
    "\n",
    "print(\"mse : \", mse );\n",
    "print(\"r2_score : \", r2 );\n",
    "print(\"score : \", kn.score( X_test, y_test ) );"
   ]
  },
  {
   "cell_type": "code",
   "execution_count": 27,
   "id": "667207dd",
   "metadata": {},
   "outputs": [
    {
     "data": {
      "text/plain": [
       "RandomForestRegressor()"
      ]
     },
     "execution_count": 27,
     "metadata": {},
     "output_type": "execute_result"
    }
   ],
   "source": [
    "from sklearn.ensemble import RandomForestRegressor\n",
    "\n",
    "rfr = RandomForestRegressor()\n",
    "rfr.fit( X_train, y_train )"
   ]
  },
  {
   "cell_type": "code",
   "execution_count": 28,
   "id": "5b31dcbd",
   "metadata": {},
   "outputs": [
    {
     "name": "stdout",
     "output_type": "stream",
     "text": [
      "mse :  10.891835651315786\n",
      "r2 :  0.8807886516790144\n",
      "score :  0.8807886516790144\n"
     ]
    }
   ],
   "source": [
    "pred = rfr.predict( X_test )\n",
    "\n",
    "mse = mean_squared_error( y_test, pred )\n",
    "r2 = r2_score( y_test, pred )\n",
    "\n",
    "print(\"mse : \", mse )\n",
    "print(\"r2 : \", r2 )\n",
    "print(\"score : \", rfr.score( X_test, y_test ) )"
   ]
  }
 ],
 "metadata": {
  "kernelspec": {
   "display_name": "Python 3 (ipykernel)",
   "language": "python",
   "name": "python3"
  },
  "language_info": {
   "codemirror_mode": {
    "name": "ipython",
    "version": 3
   },
   "file_extension": ".py",
   "mimetype": "text/x-python",
   "name": "python",
   "nbconvert_exporter": "python",
   "pygments_lexer": "ipython3",
   "version": "3.11.4"
  },
  "toc": {
   "base_numbering": 1,
   "nav_menu": {},
   "number_sections": true,
   "sideBar": true,
   "skip_h1_title": false,
   "title_cell": "Table of Contents",
   "title_sidebar": "Contents",
   "toc_cell": false,
   "toc_position": {},
   "toc_section_display": true,
   "toc_window_display": false
  }
 },
 "nbformat": 4,
 "nbformat_minor": 5
}
