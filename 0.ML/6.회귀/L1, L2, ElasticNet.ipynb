{
 "cells": [
  {
   "cell_type": "markdown",
   "id": "e9425d54",
   "metadata": {},
   "source": [
    "### 규제\n",
    "* 학습이 과대적합도는 것을 방지하고자 하는 알고리즘\n",
    "* 라쏘(Lasso)\n",
    "    - L1규제를 추가한 모형\n",
    "    - 영향력이 크지 않은 회귀계수 값을 0으로 만드는 특성이 있다.\n",
    "        * 회귀계수 : 독립변수의 값이 변화함에 따라 종속변수에 미치는 영향력 크기\n",
    "    - alpha를 이용하여 가중치 제어. alpha값에 따라 과적합될 우려가 있다.\n",
    "    - 영향력이 작은 회귀계수를 0으로 만듦으로써 모델에서 가장 중요한 특성이 무엇인지 알 수 있다\n",
    "* 릿지(Ridge)\n",
    "    - L2규제를 추가한 모형\n",
    "    - 계수값을 0이 아닌 작게 만드는 특성이 있다.\n",
    "    - alpha를 이용하여 가중치 제어. alpha값에 따라 과적합될 우려가 있다.\n",
    "* 엘라스틱넷(ElasticNet)\n",
    "    - L1, L2를 함께 결합한 모형\n",
    "    - 피처가 많은 데이터세트에 적용\n",
    "    - L1 규제로 feature의 수를 줄이고 L2규제로 계수값의 크기를 조정\n",
    "    - 파라미터\n",
    "        * alpha : L1규제의 alpha(a) + L2규제의 alpha(b). L1과 L2의 alpha를 합처논 것이다.\n",
    "        * l1_ratio = 0 : 0에 가까워 질수록 L2규제와 동일\n",
    "        * l1_ratio = 1 : 1에 가까워 질수록 L1규제와 동일\n",
    "        * 0 < l1_ratio < 1 : L1과 L2규제를 적절히 적용\n",
    "* 계수 : 계산해서 얻은 값"
   ]
  },
  {
   "cell_type": "code",
   "execution_count": 1,
   "id": "330b5664",
   "metadata": {},
   "outputs": [],
   "source": [
    "import pandas as pd\n",
    "import numpy as np\n",
    "import warnings\n",
    "\n",
    "warnings.filterwarnings(\"ignore\")"
   ]
  },
  {
   "cell_type": "code",
   "execution_count": 2,
   "id": "5006b347",
   "metadata": {},
   "outputs": [
    {
     "data": {
      "text/html": [
       "<div>\n",
       "<style scoped>\n",
       "    .dataframe tbody tr th:only-of-type {\n",
       "        vertical-align: middle;\n",
       "    }\n",
       "\n",
       "    .dataframe tbody tr th {\n",
       "        vertical-align: top;\n",
       "    }\n",
       "\n",
       "    .dataframe thead th {\n",
       "        text-align: right;\n",
       "    }\n",
       "</style>\n",
       "<table border=\"1\" class=\"dataframe\">\n",
       "  <thead>\n",
       "    <tr style=\"text-align: right;\">\n",
       "      <th></th>\n",
       "      <th>CRIM</th>\n",
       "      <th>ZN</th>\n",
       "      <th>INDUS</th>\n",
       "      <th>CHAS</th>\n",
       "      <th>NOX</th>\n",
       "      <th>RM</th>\n",
       "      <th>AGE</th>\n",
       "      <th>DIS</th>\n",
       "      <th>RAD</th>\n",
       "      <th>TAX</th>\n",
       "      <th>PTRATIO</th>\n",
       "      <th>B</th>\n",
       "      <th>LSTAT</th>\n",
       "      <th>PRICE</th>\n",
       "    </tr>\n",
       "  </thead>\n",
       "  <tbody>\n",
       "    <tr>\n",
       "      <th>0</th>\n",
       "      <td>0.00632</td>\n",
       "      <td>18.0</td>\n",
       "      <td>2.31</td>\n",
       "      <td>0.0</td>\n",
       "      <td>0.538</td>\n",
       "      <td>6.575</td>\n",
       "      <td>65.2</td>\n",
       "      <td>4.0900</td>\n",
       "      <td>1.0</td>\n",
       "      <td>296.0</td>\n",
       "      <td>15.3</td>\n",
       "      <td>396.90</td>\n",
       "      <td>4.98</td>\n",
       "      <td>24.0</td>\n",
       "    </tr>\n",
       "    <tr>\n",
       "      <th>1</th>\n",
       "      <td>0.02731</td>\n",
       "      <td>0.0</td>\n",
       "      <td>7.07</td>\n",
       "      <td>0.0</td>\n",
       "      <td>0.469</td>\n",
       "      <td>6.421</td>\n",
       "      <td>78.9</td>\n",
       "      <td>4.9671</td>\n",
       "      <td>2.0</td>\n",
       "      <td>242.0</td>\n",
       "      <td>17.8</td>\n",
       "      <td>396.90</td>\n",
       "      <td>9.14</td>\n",
       "      <td>21.6</td>\n",
       "    </tr>\n",
       "    <tr>\n",
       "      <th>2</th>\n",
       "      <td>0.02729</td>\n",
       "      <td>0.0</td>\n",
       "      <td>7.07</td>\n",
       "      <td>0.0</td>\n",
       "      <td>0.469</td>\n",
       "      <td>7.185</td>\n",
       "      <td>61.1</td>\n",
       "      <td>4.9671</td>\n",
       "      <td>2.0</td>\n",
       "      <td>242.0</td>\n",
       "      <td>17.8</td>\n",
       "      <td>392.83</td>\n",
       "      <td>4.03</td>\n",
       "      <td>34.7</td>\n",
       "    </tr>\n",
       "    <tr>\n",
       "      <th>3</th>\n",
       "      <td>0.03237</td>\n",
       "      <td>0.0</td>\n",
       "      <td>2.18</td>\n",
       "      <td>0.0</td>\n",
       "      <td>0.458</td>\n",
       "      <td>6.998</td>\n",
       "      <td>45.8</td>\n",
       "      <td>6.0622</td>\n",
       "      <td>3.0</td>\n",
       "      <td>222.0</td>\n",
       "      <td>18.7</td>\n",
       "      <td>394.63</td>\n",
       "      <td>2.94</td>\n",
       "      <td>33.4</td>\n",
       "    </tr>\n",
       "    <tr>\n",
       "      <th>4</th>\n",
       "      <td>0.06905</td>\n",
       "      <td>0.0</td>\n",
       "      <td>2.18</td>\n",
       "      <td>0.0</td>\n",
       "      <td>0.458</td>\n",
       "      <td>7.147</td>\n",
       "      <td>54.2</td>\n",
       "      <td>6.0622</td>\n",
       "      <td>3.0</td>\n",
       "      <td>222.0</td>\n",
       "      <td>18.7</td>\n",
       "      <td>396.90</td>\n",
       "      <td>5.33</td>\n",
       "      <td>36.2</td>\n",
       "    </tr>\n",
       "  </tbody>\n",
       "</table>\n",
       "</div>"
      ],
      "text/plain": [
       "      CRIM    ZN  INDUS  CHAS    NOX     RM   AGE     DIS  RAD    TAX  \\\n",
       "0  0.00632  18.0   2.31   0.0  0.538  6.575  65.2  4.0900  1.0  296.0   \n",
       "1  0.02731   0.0   7.07   0.0  0.469  6.421  78.9  4.9671  2.0  242.0   \n",
       "2  0.02729   0.0   7.07   0.0  0.469  7.185  61.1  4.9671  2.0  242.0   \n",
       "3  0.03237   0.0   2.18   0.0  0.458  6.998  45.8  6.0622  3.0  222.0   \n",
       "4  0.06905   0.0   2.18   0.0  0.458  7.147  54.2  6.0622  3.0  222.0   \n",
       "\n",
       "   PTRATIO       B  LSTAT  PRICE  \n",
       "0     15.3  396.90   4.98   24.0  \n",
       "1     17.8  396.90   9.14   21.6  \n",
       "2     17.8  392.83   4.03   34.7  \n",
       "3     18.7  394.63   2.94   33.4  \n",
       "4     18.7  396.90   5.33   36.2  "
      ]
     },
     "execution_count": 2,
     "metadata": {},
     "output_type": "execute_result"
    }
   ],
   "source": [
    "df = pd.read_csv(\"data/boston.csv\")\n",
    "df.head()"
   ]
  },
  {
   "cell_type": "code",
   "execution_count": 3,
   "id": "00a180b1",
   "metadata": {
    "collapsed": true
   },
   "outputs": [
    {
     "data": {
      "text/plain": [
       "Index(['CRIM', 'ZN', 'INDUS', 'CHAS', 'NOX', 'RM', 'AGE', 'DIS', 'RAD', 'TAX',\n",
       "       'PTRATIO', 'B', 'LSTAT', 'PRICE'],\n",
       "      dtype='object')"
      ]
     },
     "execution_count": 3,
     "metadata": {},
     "output_type": "execute_result"
    }
   ],
   "source": [
    "df.columns"
   ]
  },
  {
   "cell_type": "code",
   "execution_count": 5,
   "id": "a6155dea",
   "metadata": {},
   "outputs": [],
   "source": [
    "f = ['CRIM', 'ZN', 'INDUS', 'CHAS', 'NOX', 'RM', 'AGE', 'DIS', 'RAD', 'TAX',\n",
    "       'PTRATIO', 'B', 'LSTAT']\n",
    "label = 'PRICE'\n",
    "\n",
    "X, y = df[f], df[label]"
   ]
  },
  {
   "cell_type": "code",
   "execution_count": 6,
   "id": "e893f010",
   "metadata": {},
   "outputs": [
    {
     "data": {
      "text/plain": [
       "((354, 13), (152, 13))"
      ]
     },
     "execution_count": 6,
     "metadata": {},
     "output_type": "execute_result"
    }
   ],
   "source": [
    "from sklearn.model_selection import train_test_split\n",
    "\n",
    "X_train, X_test, y_train, y_test = \\\n",
    "            train_test_split(X, y, test_size=0.3 )\n",
    "\n",
    "X_train.shape, X_test.shape"
   ]
  },
  {
   "cell_type": "code",
   "execution_count": 7,
   "id": "94c61cbb",
   "metadata": {},
   "outputs": [
    {
     "name": "stdout",
     "output_type": "stream",
     "text": [
      "score :  0.7097355517449534 mse :  24.70431150628309\n",
      "score :  0.7551814914684486 mse :  20.25509988745104\n"
     ]
    }
   ],
   "source": [
    "from sklearn.metrics import mean_squared_error\n",
    "from sklearn.linear_model import Lasso\n",
    "# alpha : 규제 강도\n",
    "# 수치가 높을수록 강한 강도이다\n",
    "# 강도가 높다 : 영향력이 높은것들도 0으로 만든다\n",
    "lasso = Lasso( alpha = 0.07 )\n",
    "lasso.fit( X_train, y_train )\n",
    "\n",
    "train_pred = lasso.predict( X_train )\n",
    "test_pred = lasso.predict( X_test )\n",
    "\n",
    "print(\"score : \", lasso.score(X_train, y_train) ,\n",
    "                \"mse : \", mean_squared_error(train_pred, y_train))\n",
    "print(\"score : \", lasso.score(X_test, y_test) ,\n",
    "                \"mse : \", mean_squared_error(test_pred, y_test))"
   ]
  },
  {
   "cell_type": "code",
   "execution_count": 8,
   "id": "d01ee34d",
   "metadata": {
    "collapsed": true
   },
   "outputs": [
    {
     "name": "stdout",
     "output_type": "stream",
     "text": [
      "alpha :  0.07\n",
      "score :  0.7097355517449534 mse :  24.70431150628309\n",
      "score :  0.7551814914684486 mse :  20.25509988745104\n",
      "--------------------------------------------------\n",
      "alpha :  0.1\n",
      "score :  0.7085326063458954 mse :  24.806693792649984\n",
      "score :  0.7550819613291534 mse :  20.263334530024952\n",
      "--------------------------------------------------\n",
      "alpha :  0.5\n",
      "score :  0.690117045639873 mse :  26.374036093711606\n",
      "score :  0.7253270240263718 mse :  22.725114200310827\n",
      "--------------------------------------------------\n",
      "alpha :  1.3\n",
      "score :  0.6514427030100698 mse :  29.665596646066543\n",
      "score :  0.6650288546969045 mse :  27.71389323554212\n",
      "--------------------------------------------------\n",
      "alpha :  2\n",
      "score :  0.621569458971402 mse :  32.20809859858263\n",
      "score :  0.642929202377295 mse :  29.542311633712128\n",
      "--------------------------------------------------\n"
     ]
    }
   ],
   "source": [
    "alphas = [ 0.07, 0.1, 0.5, 1.3, 2 ]\n",
    "\n",
    "for a in alphas:\n",
    "    lasso = Lasso( alpha = a )\n",
    "    lasso.fit( X_train, y_train )\n",
    "\n",
    "    train_pred = lasso.predict( X_train )\n",
    "    test_pred = lasso.predict( X_test )\n",
    "    \n",
    "    print(\"alpha : \", a)\n",
    "    print(\"score : \", lasso.score(X_train, y_train) ,\n",
    "                    \"mse : \", mean_squared_error(train_pred, y_train))\n",
    "    print(\"score : \", lasso.score(X_test, y_test) ,\n",
    "                    \"mse : \", mean_squared_error(test_pred, y_test))\n",
    "    print(\"-\" * 50)"
   ]
  },
  {
   "cell_type": "code",
   "execution_count": 9,
   "id": "6320dfd0",
   "metadata": {},
   "outputs": [
    {
     "name": "stdout",
     "output_type": "stream",
     "text": [
      "최적의 하이퍼 파라미터 :  {'alpha': 0.07}\n",
      "train :  0.7097355517449534\n",
      "test :  0.7551814914684486\n"
     ]
    }
   ],
   "source": [
    "from sklearn.model_selection import GridSearchCV\n",
    "\n",
    "params = {\"alpha\" : [ 0.07, 0.1, 0.5, 1.3, 2 ] }\n",
    "\n",
    "lasso = Lasso()\n",
    "\n",
    "grid_cv = GridSearchCV(lasso, param_grid=params, cv=5 )\n",
    "grid_cv.fit( X_train, y_train )\n",
    "\n",
    "print(\"최적의 하이퍼 파라미터 : \", grid_cv.best_params_ )\n",
    "print(\"train : \", grid_cv.score(X_train, y_train))\n",
    "print(\"test : \", grid_cv.score(X_test, y_test))"
   ]
  },
  {
   "cell_type": "code",
   "execution_count": 11,
   "id": "2ceb5483",
   "metadata": {},
   "outputs": [
    {
     "name": "stdout",
     "output_type": "stream",
     "text": [
      "Index(['CRIM', 'ZN', 'INDUS', 'CHAS', 'NOX', 'RM', 'AGE', 'DIS', 'RAD', 'TAX',\n",
      "       'PTRATIO', 'B', 'LSTAT'],\n",
      "      dtype='object')\n"
     ]
    },
    {
     "data": {
      "text/plain": [
       "array([-0.01542137,  0.04796733, -0.        ,  0.        ,  0.        ,\n",
       "        0.        ,  0.05718535, -0.        ,  0.0199944 , -0.00524226,\n",
       "       -0.30256142,  0.00706153, -0.79798671])"
      ]
     },
     "execution_count": 11,
     "metadata": {},
     "output_type": "execute_result"
    }
   ],
   "source": [
    "lasso = Lasso(alpha=3)\n",
    "lasso.fit( X_train, y_train )\n",
    "print(X_train.columns )\n",
    "lasso.coef_"
   ]
  },
  {
   "cell_type": "code",
   "execution_count": 12,
   "id": "49534d8f",
   "metadata": {},
   "outputs": [
    {
     "data": {
      "text/plain": [
       "[0.07, 0.1, 0.5, 1.3, 2]"
      ]
     },
     "execution_count": 12,
     "metadata": {},
     "output_type": "execute_result"
    }
   ],
   "source": [
    "alphas"
   ]
  },
  {
   "cell_type": "code",
   "execution_count": 16,
   "id": "1939828c",
   "metadata": {},
   "outputs": [
    {
     "name": "stdout",
     "output_type": "stream",
     "text": [
      "0 : 0.07\n",
      "1 : 0.1\n",
      "2 : 0.5\n",
      "3 : 1.3\n",
      "4 : 2\n"
     ]
    },
    {
     "data": {
      "text/html": [
       "<div>\n",
       "<style scoped>\n",
       "    .dataframe tbody tr th:only-of-type {\n",
       "        vertical-align: middle;\n",
       "    }\n",
       "\n",
       "    .dataframe tbody tr th {\n",
       "        vertical-align: top;\n",
       "    }\n",
       "\n",
       "    .dataframe thead th {\n",
       "        text-align: right;\n",
       "    }\n",
       "</style>\n",
       "<table border=\"1\" class=\"dataframe\">\n",
       "  <thead>\n",
       "    <tr style=\"text-align: right;\">\n",
       "      <th></th>\n",
       "      <th>alpha : 0.07</th>\n",
       "      <th>alpha : 0.1</th>\n",
       "      <th>alpha : 0.5</th>\n",
       "      <th>alpha : 1.3</th>\n",
       "      <th>alpha : 2</th>\n",
       "    </tr>\n",
       "  </thead>\n",
       "  <tbody>\n",
       "    <tr>\n",
       "      <th>CRIM</th>\n",
       "      <td>-0.106645</td>\n",
       "      <td>-0.106446</td>\n",
       "      <td>-0.095474</td>\n",
       "      <td>-0.067241</td>\n",
       "      <td>-0.042636</td>\n",
       "    </tr>\n",
       "    <tr>\n",
       "      <th>ZN</th>\n",
       "      <td>0.060160</td>\n",
       "      <td>0.060384</td>\n",
       "      <td>0.062598</td>\n",
       "      <td>0.058445</td>\n",
       "      <td>0.047019</td>\n",
       "    </tr>\n",
       "    <tr>\n",
       "      <th>INDUS</th>\n",
       "      <td>-0.040530</td>\n",
       "      <td>-0.035452</td>\n",
       "      <td>-0.000000</td>\n",
       "      <td>-0.000000</td>\n",
       "      <td>0.000000</td>\n",
       "    </tr>\n",
       "    <tr>\n",
       "      <th>CHAS</th>\n",
       "      <td>2.622554</td>\n",
       "      <td>2.117655</td>\n",
       "      <td>0.000000</td>\n",
       "      <td>0.000000</td>\n",
       "      <td>0.000000</td>\n",
       "    </tr>\n",
       "    <tr>\n",
       "      <th>NOX</th>\n",
       "      <td>-0.000000</td>\n",
       "      <td>-0.000000</td>\n",
       "      <td>-0.000000</td>\n",
       "      <td>-0.000000</td>\n",
       "      <td>-0.000000</td>\n",
       "    </tr>\n",
       "    <tr>\n",
       "      <th>RM</th>\n",
       "      <td>2.916672</td>\n",
       "      <td>2.810614</td>\n",
       "      <td>1.481244</td>\n",
       "      <td>0.000000</td>\n",
       "      <td>0.000000</td>\n",
       "    </tr>\n",
       "    <tr>\n",
       "      <th>AGE</th>\n",
       "      <td>0.001647</td>\n",
       "      <td>0.003264</td>\n",
       "      <td>0.020304</td>\n",
       "      <td>0.044069</td>\n",
       "      <td>0.056902</td>\n",
       "    </tr>\n",
       "    <tr>\n",
       "      <th>DIS</th>\n",
       "      <td>-1.265648</td>\n",
       "      <td>-1.254672</td>\n",
       "      <td>-1.048596</td>\n",
       "      <td>-0.579102</td>\n",
       "      <td>-0.115025</td>\n",
       "    </tr>\n",
       "    <tr>\n",
       "      <th>RAD</th>\n",
       "      <td>0.300830</td>\n",
       "      <td>0.304378</td>\n",
       "      <td>0.307778</td>\n",
       "      <td>0.238325</td>\n",
       "      <td>0.146172</td>\n",
       "    </tr>\n",
       "    <tr>\n",
       "      <th>TAX</th>\n",
       "      <td>-0.014343</td>\n",
       "      <td>-0.014583</td>\n",
       "      <td>-0.015489</td>\n",
       "      <td>-0.012790</td>\n",
       "      <td>-0.008896</td>\n",
       "    </tr>\n",
       "    <tr>\n",
       "      <th>PTRATIO</th>\n",
       "      <td>-0.888820</td>\n",
       "      <td>-0.897811</td>\n",
       "      <td>-0.920937</td>\n",
       "      <td>-0.805693</td>\n",
       "      <td>-0.623464</td>\n",
       "    </tr>\n",
       "    <tr>\n",
       "      <th>B</th>\n",
       "      <td>0.010061</td>\n",
       "      <td>0.010044</td>\n",
       "      <td>0.009373</td>\n",
       "      <td>0.008096</td>\n",
       "      <td>0.007612</td>\n",
       "    </tr>\n",
       "    <tr>\n",
       "      <th>LSTAT</th>\n",
       "      <td>-0.609606</td>\n",
       "      <td>-0.619942</td>\n",
       "      <td>-0.721641</td>\n",
       "      <td>-0.813875</td>\n",
       "      <td>-0.809651</td>\n",
       "    </tr>\n",
       "  </tbody>\n",
       "</table>\n",
       "</div>"
      ],
      "text/plain": [
       "         alpha : 0.07  alpha : 0.1  alpha : 0.5  alpha : 1.3  alpha : 2\n",
       "CRIM        -0.106645    -0.106446    -0.095474    -0.067241  -0.042636\n",
       "ZN           0.060160     0.060384     0.062598     0.058445   0.047019\n",
       "INDUS       -0.040530    -0.035452    -0.000000    -0.000000   0.000000\n",
       "CHAS         2.622554     2.117655     0.000000     0.000000   0.000000\n",
       "NOX         -0.000000    -0.000000    -0.000000    -0.000000  -0.000000\n",
       "RM           2.916672     2.810614     1.481244     0.000000   0.000000\n",
       "AGE          0.001647     0.003264     0.020304     0.044069   0.056902\n",
       "DIS         -1.265648    -1.254672    -1.048596    -0.579102  -0.115025\n",
       "RAD          0.300830     0.304378     0.307778     0.238325   0.146172\n",
       "TAX         -0.014343    -0.014583    -0.015489    -0.012790  -0.008896\n",
       "PTRATIO     -0.888820    -0.897811    -0.920937    -0.805693  -0.623464\n",
       "B            0.010061     0.010044     0.009373     0.008096   0.007612\n",
       "LSTAT       -0.609606    -0.619942    -0.721641    -0.813875  -0.809651"
      ]
     },
     "execution_count": 16,
     "metadata": {},
     "output_type": "execute_result"
    }
   ],
   "source": [
    "coeff_df = pd.DataFrame( index = X_train.columns )\n",
    "#coeff_df\n",
    "\n",
    "for idx, alpha in enumerate( alphas ):\n",
    "    print( idx , \":\" , alpha)\n",
    "    lasso = Lasso(alpha = alpha)\n",
    "    lasso.fit( X_train, y_train)\n",
    "    col_name = \"alpha : \" + str(alpha)\n",
    "    coeff_df[col_name] = lasso.coef_\n",
    "coeff_df"
   ]
  },
  {
   "cell_type": "code",
   "execution_count": null,
   "id": "8189af99",
   "metadata": {},
   "outputs": [],
   "source": []
  },
  {
   "cell_type": "code",
   "execution_count": 17,
   "id": "be83b8d5",
   "metadata": {},
   "outputs": [],
   "source": [
    "from sklearn.linear_model import Ridge\n",
    "\n",
    "alphas = [ 0.01 , 0.1 , 1 , 10 , 100 ]"
   ]
  },
  {
   "cell_type": "code",
   "execution_count": 19,
   "id": "15281728",
   "metadata": {},
   "outputs": [
    {
     "name": "stdout",
     "output_type": "stream",
     "text": [
      "alpha :  0.01\n",
      "train :  0.7269772644705177 mse :  23.23687501988321\n",
      "test :  0.7523650471698196 mse :  20.488118873386167\n",
      "--------------------------------------------------\n",
      "alpha :  0.1\n",
      "train :  0.726852844715702 mse :  23.24746434420102\n",
      "test :  0.7538723820160216 mse :  20.36340927501149\n",
      "--------------------------------------------------\n",
      "alpha :  1\n",
      "train :  0.7230554244078314 mse :  23.570661534796987\n",
      "test :  0.7579149064496089 mse :  20.028950345860626\n",
      "--------------------------------------------------\n",
      "alpha :  10\n",
      "train :  0.7124027855817248 mse :  24.47730411368019\n",
      "test :  0.7545026988117784 mse :  20.311259910425566\n",
      "--------------------------------------------------\n",
      "alpha :  100\n",
      "train :  0.6962988319652581 mse :  25.847906297363256\n",
      "test :  0.7256140931201485 mse :  22.701363491249158\n",
      "--------------------------------------------------\n"
     ]
    }
   ],
   "source": [
    "for alpha in alphas:\n",
    "    ridge = Ridge( alpha = alpha )\n",
    "    ridge.fit(X_train, y_train)\n",
    "    \n",
    "    train_pred = ridge.predict(X_train)\n",
    "    test_pred = ridge.predict(X_test)\n",
    "    \n",
    "    train_score = ridge.score( X_train, y_train )\n",
    "    test_score = ridge.score( X_test, y_test )\n",
    "    \n",
    "    train_mse = mean_squared_error(train_pred, y_train)\n",
    "    test_mse = mean_squared_error(test_pred, y_test)\n",
    "    \n",
    "    print(\"alpha : \", alpha )\n",
    "    print(\"train : \", train_score, \"mse : \", train_mse )\n",
    "    print(\"test : \", test_score, \"mse : \", test_mse )\n",
    "    print(\"-\" * 50)"
   ]
  },
  {
   "cell_type": "code",
   "execution_count": 20,
   "id": "211533b2",
   "metadata": {},
   "outputs": [
    {
     "data": {
      "text/plain": [
       "[0.01, 0.1, 1, 10, 100]"
      ]
     },
     "execution_count": 20,
     "metadata": {},
     "output_type": "execute_result"
    }
   ],
   "source": [
    "alphas"
   ]
  },
  {
   "cell_type": "code",
   "execution_count": 22,
   "id": "fd12b063",
   "metadata": {},
   "outputs": [
    {
     "data": {
      "text/html": [
       "<div>\n",
       "<style scoped>\n",
       "    .dataframe tbody tr th:only-of-type {\n",
       "        vertical-align: middle;\n",
       "    }\n",
       "\n",
       "    .dataframe tbody tr th {\n",
       "        vertical-align: top;\n",
       "    }\n",
       "\n",
       "    .dataframe thead th {\n",
       "        text-align: right;\n",
       "    }\n",
       "</style>\n",
       "<table border=\"1\" class=\"dataframe\">\n",
       "  <thead>\n",
       "    <tr style=\"text-align: right;\">\n",
       "      <th></th>\n",
       "      <th>alpha : 0.01</th>\n",
       "      <th>alpha : 0.1</th>\n",
       "      <th>alpha : 1</th>\n",
       "      <th>alpha : 10</th>\n",
       "      <th>alpha : 100</th>\n",
       "    </tr>\n",
       "  </thead>\n",
       "  <tbody>\n",
       "    <tr>\n",
       "      <th>CRIM</th>\n",
       "      <td>-0.121530</td>\n",
       "      <td>-0.120409</td>\n",
       "      <td>-0.114784</td>\n",
       "      <td>-0.110369</td>\n",
       "      <td>-0.109011</td>\n",
       "    </tr>\n",
       "    <tr>\n",
       "      <th>ZN</th>\n",
       "      <td>0.058498</td>\n",
       "      <td>0.058602</td>\n",
       "      <td>0.059210</td>\n",
       "      <td>0.060954</td>\n",
       "      <td>0.064977</td>\n",
       "    </tr>\n",
       "    <tr>\n",
       "      <th>INDUS</th>\n",
       "      <td>0.027454</td>\n",
       "      <td>0.021192</td>\n",
       "      <td>-0.010587</td>\n",
       "      <td>-0.039586</td>\n",
       "      <td>-0.038155</td>\n",
       "    </tr>\n",
       "    <tr>\n",
       "      <th>CHAS</th>\n",
       "      <td>3.825570</td>\n",
       "      <td>3.806645</td>\n",
       "      <td>3.635813</td>\n",
       "      <td>2.549949</td>\n",
       "      <td>0.657917</td>\n",
       "    </tr>\n",
       "    <tr>\n",
       "      <th>NOX</th>\n",
       "      <td>-21.460572</td>\n",
       "      <td>-19.753703</td>\n",
       "      <td>-11.001874</td>\n",
       "      <td>-2.021321</td>\n",
       "      <td>-0.205769</td>\n",
       "    </tr>\n",
       "    <tr>\n",
       "      <th>RM</th>\n",
       "      <td>2.941903</td>\n",
       "      <td>2.956291</td>\n",
       "      <td>3.013522</td>\n",
       "      <td>2.807783</td>\n",
       "      <td>1.517343</td>\n",
       "    </tr>\n",
       "    <tr>\n",
       "      <th>AGE</th>\n",
       "      <td>0.016296</td>\n",
       "      <td>0.014876</td>\n",
       "      <td>0.007802</td>\n",
       "      <td>0.003696</td>\n",
       "      <td>0.018833</td>\n",
       "    </tr>\n",
       "    <tr>\n",
       "      <th>DIS</th>\n",
       "      <td>-1.652969</td>\n",
       "      <td>-1.624291</td>\n",
       "      <td>-1.477934</td>\n",
       "      <td>-1.332523</td>\n",
       "      <td>-1.186216</td>\n",
       "    </tr>\n",
       "    <tr>\n",
       "      <th>RAD</th>\n",
       "      <td>0.354559</td>\n",
       "      <td>0.349838</td>\n",
       "      <td>0.326593</td>\n",
       "      <td>0.315481</td>\n",
       "      <td>0.342118</td>\n",
       "    </tr>\n",
       "    <tr>\n",
       "      <th>TAX</th>\n",
       "      <td>-0.012499</td>\n",
       "      <td>-0.012611</td>\n",
       "      <td>-0.013232</td>\n",
       "      <td>-0.014461</td>\n",
       "      <td>-0.016045</td>\n",
       "    </tr>\n",
       "    <tr>\n",
       "      <th>PTRATIO</th>\n",
       "      <td>-1.102072</td>\n",
       "      <td>-1.083922</td>\n",
       "      <td>-0.993104</td>\n",
       "      <td>-0.929638</td>\n",
       "      <td>-0.969107</td>\n",
       "    </tr>\n",
       "    <tr>\n",
       "      <th>B</th>\n",
       "      <td>0.008512</td>\n",
       "      <td>0.008639</td>\n",
       "      <td>0.009285</td>\n",
       "      <td>0.009898</td>\n",
       "      <td>0.009443</td>\n",
       "    </tr>\n",
       "    <tr>\n",
       "      <th>LSTAT</th>\n",
       "      <td>-0.560200</td>\n",
       "      <td>-0.562537</td>\n",
       "      <td>-0.576069</td>\n",
       "      <td>-0.612981</td>\n",
       "      <td>-0.712559</td>\n",
       "    </tr>\n",
       "  </tbody>\n",
       "</table>\n",
       "</div>"
      ],
      "text/plain": [
       "         alpha : 0.01  alpha : 0.1  alpha : 1  alpha : 10  alpha : 100\n",
       "CRIM        -0.121530    -0.120409  -0.114784   -0.110369    -0.109011\n",
       "ZN           0.058498     0.058602   0.059210    0.060954     0.064977\n",
       "INDUS        0.027454     0.021192  -0.010587   -0.039586    -0.038155\n",
       "CHAS         3.825570     3.806645   3.635813    2.549949     0.657917\n",
       "NOX        -21.460572   -19.753703 -11.001874   -2.021321    -0.205769\n",
       "RM           2.941903     2.956291   3.013522    2.807783     1.517343\n",
       "AGE          0.016296     0.014876   0.007802    0.003696     0.018833\n",
       "DIS         -1.652969    -1.624291  -1.477934   -1.332523    -1.186216\n",
       "RAD          0.354559     0.349838   0.326593    0.315481     0.342118\n",
       "TAX         -0.012499    -0.012611  -0.013232   -0.014461    -0.016045\n",
       "PTRATIO     -1.102072    -1.083922  -0.993104   -0.929638    -0.969107\n",
       "B            0.008512     0.008639   0.009285    0.009898     0.009443\n",
       "LSTAT       -0.560200    -0.562537  -0.576069   -0.612981    -0.712559"
      ]
     },
     "execution_count": 22,
     "metadata": {},
     "output_type": "execute_result"
    }
   ],
   "source": [
    "coeff_df = pd.DataFrame( index = X_train.columns )\n",
    "#coeff_df\n",
    "for alpha in alphas:\n",
    "    ridge = Ridge(alpha = alpha)\n",
    "    ridge.fit( X_train, y_train )\n",
    "    col_name = \"alpha : \" + str(alpha)\n",
    "    coeff_df[col_name] = ridge.coef_\n",
    "coeff_df"
   ]
  },
  {
   "cell_type": "code",
   "execution_count": 23,
   "id": "82c1a93a",
   "metadata": {},
   "outputs": [],
   "source": [
    "from sklearn.linear_model import ElasticNet\n",
    "\n",
    "# l1_ratios : 0에 가까울 수록 L2(릿지)규제에 가깝다\n",
    "# l1_ratios : 1에 가까울 수록 L1(랏소)규제에 가깝다\n",
    "ratios = [ 0.2 , 0.5 , 0.8 ] \n",
    "alphas = [0.1 , 0.7 , 1.5] #규제 강도"
   ]
  },
  {
   "cell_type": "code",
   "execution_count": 24,
   "id": "d2d20026",
   "metadata": {},
   "outputs": [
    {
     "name": "stdout",
     "output_type": "stream",
     "text": [
      "train :  0.6830307698046927\n",
      "test :  0.7067891208852564\n"
     ]
    }
   ],
   "source": [
    "el = ElasticNet(alpha= 0.7, l1_ratio= 0.2)\n",
    "el.fit( X_train, y_train )\n",
    "\n",
    "print(\"train : \", el.score(X_train, y_train) )\n",
    "print(\"test : \", el.score(X_test, y_test) )"
   ]
  },
  {
   "cell_type": "code",
   "execution_count": 25,
   "id": "dba31db6",
   "metadata": {},
   "outputs": [
    {
     "name": "stdout",
     "output_type": "stream",
     "text": [
      "최적의 하이퍼 파라미터 :  {'alpha': 0.1, 'l1_ratio': 0.2}\n",
      "train :  0.7060082114121442\n",
      "test :  0.745933395325818\n"
     ]
    }
   ],
   "source": [
    "params = {\n",
    "    \"alpha\" : alphas,\n",
    "    \"l1_ratio\" : ratios\n",
    "}\n",
    "el = ElasticNet()\n",
    "grid_cv = GridSearchCV(el, param_grid=params, cv=5)\n",
    "grid_cv.fit( X_train, y_train )\n",
    "\n",
    "print(\"최적의 하이퍼 파라미터 : \", grid_cv.best_params_ )\n",
    "print(\"train : \", grid_cv.score(X_train, y_train) )\n",
    "print(\"test : \", grid_cv.score(X_test, y_test) )"
   ]
  },
  {
   "cell_type": "code",
   "execution_count": null,
   "id": "3b81954b",
   "metadata": {},
   "outputs": [],
   "source": []
  }
 ],
 "metadata": {
  "kernelspec": {
   "display_name": "Python 3 (ipykernel)",
   "language": "python",
   "name": "python3"
  },
  "language_info": {
   "codemirror_mode": {
    "name": "ipython",
    "version": 3
   },
   "file_extension": ".py",
   "mimetype": "text/x-python",
   "name": "python",
   "nbconvert_exporter": "python",
   "pygments_lexer": "ipython3",
   "version": "3.11.4"
  },
  "toc": {
   "base_numbering": 1,
   "nav_menu": {},
   "number_sections": true,
   "sideBar": true,
   "skip_h1_title": false,
   "title_cell": "Table of Contents",
   "title_sidebar": "Contents",
   "toc_cell": false,
   "toc_position": {},
   "toc_section_display": true,
   "toc_window_display": false
  }
 },
 "nbformat": 4,
 "nbformat_minor": 5
}
