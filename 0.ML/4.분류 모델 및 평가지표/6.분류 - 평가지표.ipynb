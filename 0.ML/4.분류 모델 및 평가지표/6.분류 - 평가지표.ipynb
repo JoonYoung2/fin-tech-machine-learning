{
 "cells": [
  {
   "cell_type": "markdown",
   "id": "da266018",
   "metadata": {},
   "source": [
    "### Classification Metric\n",
    "* Metric : 학습을 통해 목표를 얼마나 잘(못) 달성했는지를 나타내는 값을 척도(metric)라고 합니다\n",
    "    - Accuracy(정확도)\n",
    "        * 전체 샘플 중 맞게 예측한 샘플 수의 비율\n",
    "    - Recall(재현율)\n",
    "        * 양성 샘플을 양성으로 맞춘 비율과 양성을 음성으로 잘못 예측한 비율\n",
    "        * 실제 음성을 양성으로 잘못 맞춰도 재현율은 떨어지지 않는다\n",
    "    - Precision(정밀도)\n",
    "        * 양성이라고 예측한 값의 비례하는 실제 값이 양성인 비율\n",
    "        * 음성을 양성으로 잘못 판단하면 정밀도는 떨어진다\n",
    "    - F1 - score\n",
    "        * Reacll과 Precision의 조화평균"
   ]
  },
  {
   "cell_type": "markdown",
   "id": "ae8ddf09",
   "metadata": {},
   "source": [
    "* 평가 지표 선택\n",
    "* Accuracy(정확도) : label 값이 균등할 경우\n",
    "* F1 - score : label 값이 불 균등할 경우"
   ]
  },
  {
   "cell_type": "code",
   "execution_count": 37,
   "id": "287f62cb",
   "metadata": {},
   "outputs": [],
   "source": [
    "y_test = [0, 1, 1, 0, 0, 0, 1, 1, 1, 1] # 실제 정답\n",
    "y_pred = [1, 0, 0, 0, 0, 0, 1, 1, 1, 1] # 예측 정답"
   ]
  },
  {
   "cell_type": "code",
   "execution_count": 38,
   "id": "532f0fc1",
   "metadata": {},
   "outputs": [
    {
     "data": {
      "text/plain": [
       "0.7"
      ]
     },
     "execution_count": 38,
     "metadata": {},
     "output_type": "execute_result"
    }
   ],
   "source": [
    "from sklearn.metrics import accuracy_score\n",
    "accuracy_score( y_test, y_pred )"
   ]
  },
  {
   "cell_type": "markdown",
   "id": "4be38afa",
   "metadata": {},
   "source": [
    "#### if\n",
    "* 0 : 정상\n",
    "* 1 : 암"
   ]
  },
  {
   "cell_type": "code",
   "execution_count": 39,
   "id": "b70533b7",
   "metadata": {},
   "outputs": [],
   "source": [
    "y_test = [1, 1, 0, 1, 1, 1, 1, 1, 1, 1] # 실제 정답\n",
    "y_pred = [0, 1, 1, 1, 1, 1, 1, 1, 1, 1] # 예측 정답"
   ]
  },
  {
   "cell_type": "code",
   "execution_count": 40,
   "id": "97ecb623",
   "metadata": {},
   "outputs": [
    {
     "data": {
      "text/plain": [
       "0.8"
      ]
     },
     "execution_count": 40,
     "metadata": {},
     "output_type": "execute_result"
    }
   ],
   "source": [
    "accuracy_score( y_test, y_pred )"
   ]
  },
  {
   "cell_type": "markdown",
   "id": "6e33ed0f",
   "metadata": {},
   "source": [
    "####  recall(재현율)\n",
    "* 양성(1)이 중요한 경우"
   ]
  },
  {
   "cell_type": "code",
   "execution_count": 41,
   "id": "b37b3f88",
   "metadata": {},
   "outputs": [],
   "source": [
    "y_test = [0, 0, 0, 1, 1, 1, 1, 1, 1, 1] # 실제 정답\n",
    "y_pred = [1, 1, 1, 1, 1, 1, 1, 1, 1, 1] # 예측 정답"
   ]
  },
  {
   "cell_type": "code",
   "execution_count": 42,
   "id": "9b074e49",
   "metadata": {},
   "outputs": [
    {
     "data": {
      "text/plain": [
       "1.0"
      ]
     },
     "execution_count": 42,
     "metadata": {},
     "output_type": "execute_result"
    }
   ],
   "source": [
    "from sklearn.metrics import recall_score\n",
    "recall_score( y_test, y_pred )"
   ]
  },
  {
   "cell_type": "code",
   "execution_count": 43,
   "id": "5a574245",
   "metadata": {},
   "outputs": [],
   "source": [
    "y_test = [1, 1, 1, 1, 1, 1, 1, 1, 1, 1] # 실제 정답\n",
    "y_pred = [0, 0, 0, 1, 1, 1, 1, 1, 1, 1] # 예측 정답"
   ]
  },
  {
   "cell_type": "code",
   "execution_count": 44,
   "id": "49f6af20",
   "metadata": {},
   "outputs": [
    {
     "data": {
      "text/plain": [
       "0.7"
      ]
     },
     "execution_count": 44,
     "metadata": {},
     "output_type": "execute_result"
    }
   ],
   "source": [
    "recall_score( y_test, y_pred )"
   ]
  },
  {
   "cell_type": "markdown",
   "id": "636e6bee",
   "metadata": {},
   "source": [
    "* 스팸 : 1, 정상 : 0"
   ]
  },
  {
   "cell_type": "code",
   "execution_count": 45,
   "id": "84037f0e",
   "metadata": {},
   "outputs": [],
   "source": [
    "y_test = [1, 1, 1, 1, 1, 1, 1, 1, 1, 1] # 실제 정답\n",
    "y_pred = [0, 0, 0, 1, 1, 1, 1, 1, 1, 1] # 예측 정답"
   ]
  },
  {
   "cell_type": "code",
   "execution_count": 46,
   "id": "37840db2",
   "metadata": {},
   "outputs": [
    {
     "data": {
      "text/plain": [
       "0.7"
      ]
     },
     "execution_count": 46,
     "metadata": {},
     "output_type": "execute_result"
    }
   ],
   "source": [
    "recall_score( y_test, y_pred )"
   ]
  },
  {
   "cell_type": "code",
   "execution_count": 47,
   "id": "e117d8f8",
   "metadata": {},
   "outputs": [],
   "source": [
    "y_test = [0, 0, 0, 1, 1, 1, 1, 1, 1, 1] # 실제 정답\n",
    "y_pred = [1, 1, 1, 1, 1, 1, 1, 1, 1, 1] # 예측 정답"
   ]
  },
  {
   "cell_type": "code",
   "execution_count": 48,
   "id": "edbeb1b6",
   "metadata": {},
   "outputs": [
    {
     "data": {
      "text/plain": [
       "1.0"
      ]
     },
     "execution_count": 48,
     "metadata": {},
     "output_type": "execute_result"
    }
   ],
   "source": [
    "recall_score( y_test, y_pred )"
   ]
  },
  {
   "cell_type": "markdown",
   "id": "db2dd273",
   "metadata": {},
   "source": [
    "* 정밀도(precision)\n",
    "    - 실제 음성을 못맞추는 경우"
   ]
  },
  {
   "cell_type": "code",
   "execution_count": 49,
   "id": "2378bcd9",
   "metadata": {},
   "outputs": [],
   "source": [
    "y_test = [1, 1, 1, 1, 1, 1, 1, 1, 1, 1] # 실제 정답\n",
    "y_pred = [0, 0, 0, 1, 1, 1, 1, 1, 1, 1] # 예측 정답"
   ]
  },
  {
   "cell_type": "code",
   "execution_count": 50,
   "id": "4a90ad79",
   "metadata": {},
   "outputs": [
    {
     "data": {
      "text/plain": [
       "1.0"
      ]
     },
     "execution_count": 50,
     "metadata": {},
     "output_type": "execute_result"
    }
   ],
   "source": [
    "from sklearn.metrics import precision_score\n",
    "precision_score( y_test, y_pred )"
   ]
  },
  {
   "cell_type": "code",
   "execution_count": 51,
   "id": "a9702a6b",
   "metadata": {},
   "outputs": [],
   "source": [
    "y_test = [0, 0, 0, 1, 1, 1, 1, 1, 1, 1] # 실제 정답\n",
    "y_pred = [1, 1, 1, 1, 1, 1, 1, 1, 1, 1] # 예측 정답"
   ]
  },
  {
   "cell_type": "code",
   "execution_count": 52,
   "id": "dbcacc74",
   "metadata": {},
   "outputs": [
    {
     "data": {
      "text/plain": [
       "0.7"
      ]
     },
     "execution_count": 52,
     "metadata": {},
     "output_type": "execute_result"
    }
   ],
   "source": [
    "precision_score( y_test, y_pred )"
   ]
  },
  {
   "cell_type": "markdown",
   "id": "9e40c42b",
   "metadata": {},
   "source": [
    "* f1_score\n",
    "    - 정밀도와 재현율의 조화 평균\n",
    "    - label값이 불균등 할 경우 사용"
   ]
  },
  {
   "cell_type": "code",
   "execution_count": 53,
   "id": "13f90432",
   "metadata": {},
   "outputs": [],
   "source": [
    "y_test = [0, 0, 1, 1, 1, 1, 1, 1, 1, 1] # 실제 정답\n",
    "y_pred = [1, 1, 1, 1, 1, 1, 1, 1, 1, 1] # 예측 정답"
   ]
  },
  {
   "cell_type": "code",
   "execution_count": 55,
   "id": "2af04525",
   "metadata": {},
   "outputs": [
    {
     "name": "stdout",
     "output_type": "stream",
     "text": [
      "정확도 :  0.8\n",
      "재현율 :  1.0\n",
      "정밀도 :  0.8\n",
      "f1 :  0.888888888888889\n"
     ]
    }
   ],
   "source": [
    "from sklearn.metrics import f1_score\n",
    "accuracy = accuracy_score( y_test, y_pred )\n",
    "recall = recall_score( y_test, y_pred )\n",
    "precision = precision_score( y_test, y_pred )\n",
    "f1 = f1_score( y_test, y_pred )\n",
    "\n",
    "print(\"정확도 : \", accuracy)\n",
    "print(\"재현율 : \", recall)\n",
    "print(\"정밀도 : \", precision)\n",
    "print(\"f1 : \", f1)"
   ]
  },
  {
   "cell_type": "code",
   "execution_count": null,
   "id": "f3823345",
   "metadata": {},
   "outputs": [],
   "source": []
  },
  {
   "cell_type": "code",
   "execution_count": null,
   "id": "b35b8116",
   "metadata": {},
   "outputs": [],
   "source": []
  },
  {
   "cell_type": "code",
   "execution_count": null,
   "id": "a2731457",
   "metadata": {},
   "outputs": [],
   "source": []
  },
  {
   "cell_type": "code",
   "execution_count": null,
   "id": "271199f1",
   "metadata": {},
   "outputs": [],
   "source": []
  },
  {
   "cell_type": "code",
   "execution_count": null,
   "id": "c1d48945",
   "metadata": {},
   "outputs": [],
   "source": []
  },
  {
   "cell_type": "code",
   "execution_count": null,
   "id": "fa090cb0",
   "metadata": {},
   "outputs": [],
   "source": []
  },
  {
   "cell_type": "code",
   "execution_count": null,
   "id": "3fe763cd",
   "metadata": {},
   "outputs": [],
   "source": []
  },
  {
   "cell_type": "code",
   "execution_count": null,
   "id": "b4c22725",
   "metadata": {},
   "outputs": [],
   "source": []
  },
  {
   "cell_type": "code",
   "execution_count": null,
   "id": "1ae27a6c",
   "metadata": {},
   "outputs": [],
   "source": []
  },
  {
   "cell_type": "code",
   "execution_count": null,
   "id": "4e4ee647",
   "metadata": {},
   "outputs": [],
   "source": []
  },
  {
   "cell_type": "code",
   "execution_count": null,
   "id": "080e8438",
   "metadata": {},
   "outputs": [],
   "source": []
  },
  {
   "cell_type": "code",
   "execution_count": null,
   "id": "ea3766d1",
   "metadata": {},
   "outputs": [],
   "source": []
  },
  {
   "cell_type": "code",
   "execution_count": null,
   "id": "e17f66b2",
   "metadata": {},
   "outputs": [],
   "source": []
  },
  {
   "cell_type": "code",
   "execution_count": null,
   "id": "4ab75e94",
   "metadata": {},
   "outputs": [],
   "source": []
  },
  {
   "cell_type": "code",
   "execution_count": null,
   "id": "85dbafa7",
   "metadata": {},
   "outputs": [],
   "source": []
  }
 ],
 "metadata": {
  "kernelspec": {
   "display_name": "Python 3 (ipykernel)",
   "language": "python",
   "name": "python3"
  },
  "language_info": {
   "codemirror_mode": {
    "name": "ipython",
    "version": 3
   },
   "file_extension": ".py",
   "mimetype": "text/x-python",
   "name": "python",
   "nbconvert_exporter": "python",
   "pygments_lexer": "ipython3",
   "version": "3.11.4"
  }
 },
 "nbformat": 4,
 "nbformat_minor": 5
}
